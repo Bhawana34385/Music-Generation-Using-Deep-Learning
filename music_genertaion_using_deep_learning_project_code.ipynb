{
  "nbformat": 4,
  "nbformat_minor": 0,
  "metadata": {
    "colab": {
      "provenance": [],
      "mount_file_id": "1YmMQ2qE0i_gr4slVwfUWwFi1M7VAceoP",
      "authorship_tag": "ABX9TyNvZt38Ms1RYbJ6OoffOKoS",
      "include_colab_link": true
    },
    "kernelspec": {
      "display_name": "Python 3",
      "name": "python3"
    },
    "language_info": {
      "name": "python"
    }
  },
  "cells": [
    {
      "cell_type": "markdown",
      "metadata": {
        "id": "view-in-github",
        "colab_type": "text"
      },
      "source": [
        "<a href=\"https://colab.research.google.com/github/Bhawana34385/Music-Generation-Using-Deep-Learning/blob/main/music_genertaion_using_deep_learning_project_code.ipynb\" target=\"_parent\"><img src=\"https://colab.research.google.com/assets/colab-badge.svg\" alt=\"Open In Colab\"/></a>"
      ]
    },
    {
      "cell_type": "code",
      "metadata": {
        "id": "KJa1UoxkGCv1"
      },
      "source": [
        "#library for understanding music\n",
        "from music21 import *"
      ],
      "execution_count": null,
      "outputs": []
    },
    {
      "cell_type": "code",
      "metadata": {
        "id": "I0e07DFcJHPG"
      },
      "source": [
        "#defining function to read MIDI files\n",
        "def read_midi(file):\n",
        "\n",
        "    print(\"Loading Music File:\",file)\n",
        "\n",
        "    notes=[]\n",
        "    notes_to_parse = None\n",
        "\n",
        "    #parsing a midi file\n",
        "    midi = converter.parse(file)\n",
        "\n",
        "    #grouping based on different instruments\n",
        "    s2 = instrument.partitionByInstrument(midi)\n",
        "\n",
        "    #Looping over all the instruments\n",
        "    for part in s2.parts:\n",
        "\n",
        "        #select elements of only piano\n",
        "        if 'Piano' in str(part):\n",
        "\n",
        "            notes_to_parse = part.recurse()\n",
        "\n",
        "            #finding whether a particular element is note or a chord\n",
        "            for element in notes_to_parse:\n",
        "\n",
        "                #note\n",
        "                if isinstance(element, note.Note):\n",
        "                    notes.append(str(element.pitch))\n",
        "\n",
        "                #chord\n",
        "                elif isinstance(element, chord.Chord):\n",
        "                    notes.append('.'.join(str(n) for n in element.normalOrder))\n",
        "\n",
        "    return np.array(notes)"
      ],
      "execution_count": null,
      "outputs": []
    },
    {
      "cell_type": "code",
      "metadata": {
        "colab": {
          "base_uri": "https://localhost:8080/",
          "height": 245
        },
        "id": "d8gAEnOPJfHb",
        "outputId": "4bf42f69-0bfd-4f0c-c189-717d23ab9a45"
      },
      "source": [
        "#for listing down the file names\n",
        "import os\n",
        "\n",
        "#Array Processing\n",
        "import numpy as np\n",
        "\n",
        "#specify the path\n",
        "path=\"/content/drive/MyDrive/music_data/\"\n",
        "\n",
        "#read all the filenames\n",
        "files=[i for i in os.listdir(path) if i.endswith(\".mid\")]\n",
        "\n",
        "#reading each midi file\n",
        "notes_array = np.array([read_midi(path+i) for i in files])"
      ],
      "execution_count": null,
      "outputs": [
        {
          "output_type": "error",
          "ename": "FileNotFoundError",
          "evalue": "ignored",
          "traceback": [
            "\u001b[0;31m---------------------------------------------------------------------------\u001b[0m",
            "\u001b[0;31mFileNotFoundError\u001b[0m                         Traceback (most recent call last)",
            "\u001b[0;32m<ipython-input-4-0aef89294a60>\u001b[0m in \u001b[0;36m<cell line: 11>\u001b[0;34m()\u001b[0m\n\u001b[1;32m      9\u001b[0m \u001b[0;34m\u001b[0m\u001b[0m\n\u001b[1;32m     10\u001b[0m \u001b[0;31m#read all the filenames\u001b[0m\u001b[0;34m\u001b[0m\u001b[0;34m\u001b[0m\u001b[0m\n\u001b[0;32m---> 11\u001b[0;31m \u001b[0mfiles\u001b[0m\u001b[0;34m=\u001b[0m\u001b[0;34m[\u001b[0m\u001b[0mi\u001b[0m \u001b[0;32mfor\u001b[0m \u001b[0mi\u001b[0m \u001b[0;32min\u001b[0m \u001b[0mos\u001b[0m\u001b[0;34m.\u001b[0m\u001b[0mlistdir\u001b[0m\u001b[0;34m(\u001b[0m\u001b[0mpath\u001b[0m\u001b[0;34m)\u001b[0m \u001b[0;32mif\u001b[0m \u001b[0mi\u001b[0m\u001b[0;34m.\u001b[0m\u001b[0mendswith\u001b[0m\u001b[0;34m(\u001b[0m\u001b[0;34m\".mid\"\u001b[0m\u001b[0;34m)\u001b[0m\u001b[0;34m]\u001b[0m\u001b[0;34m\u001b[0m\u001b[0;34m\u001b[0m\u001b[0m\n\u001b[0m\u001b[1;32m     12\u001b[0m \u001b[0;34m\u001b[0m\u001b[0m\n\u001b[1;32m     13\u001b[0m \u001b[0;31m#reading each midi file\u001b[0m\u001b[0;34m\u001b[0m\u001b[0;34m\u001b[0m\u001b[0m\n",
            "\u001b[0;31mFileNotFoundError\u001b[0m: [Errno 2] No such file or directory: '/content/drive/MyDrive/music_data/'"
          ]
        }
      ]
    },
    {
      "cell_type": "code",
      "metadata": {
        "colab": {
          "base_uri": "https://localhost:8080/",
          "height": 245
        },
        "id": "uV6wIyLnQKTN",
        "outputId": "c59e1972-7f5c-4665-cfe7-fe19b1867cfd"
      },
      "source": [
        "#converting 2D array into 1D array\n",
        "notes_ = [element for note_ in notes_array for element in note_]\n",
        "\n",
        "#No. of unique notes\n",
        "unique_notes = list(set(notes_))\n",
        "print(len(unique_notes))"
      ],
      "execution_count": null,
      "outputs": [
        {
          "output_type": "error",
          "ename": "NameError",
          "evalue": "ignored",
          "traceback": [
            "\u001b[0;31m---------------------------------------------------------------------------\u001b[0m",
            "\u001b[0;31mNameError\u001b[0m                                 Traceback (most recent call last)",
            "\u001b[0;32m<ipython-input-5-84d8cf5c399d>\u001b[0m in \u001b[0;36m<cell line: 2>\u001b[0;34m()\u001b[0m\n\u001b[1;32m      1\u001b[0m \u001b[0;31m#converting 2D array into 1D array\u001b[0m\u001b[0;34m\u001b[0m\u001b[0;34m\u001b[0m\u001b[0m\n\u001b[0;32m----> 2\u001b[0;31m \u001b[0mnotes_\u001b[0m \u001b[0;34m=\u001b[0m \u001b[0;34m[\u001b[0m\u001b[0melement\u001b[0m \u001b[0;32mfor\u001b[0m \u001b[0mnote_\u001b[0m \u001b[0;32min\u001b[0m \u001b[0mnotes_array\u001b[0m \u001b[0;32mfor\u001b[0m \u001b[0melement\u001b[0m \u001b[0;32min\u001b[0m \u001b[0mnote_\u001b[0m\u001b[0;34m]\u001b[0m\u001b[0;34m\u001b[0m\u001b[0;34m\u001b[0m\u001b[0m\n\u001b[0m\u001b[1;32m      3\u001b[0m \u001b[0;34m\u001b[0m\u001b[0m\n\u001b[1;32m      4\u001b[0m \u001b[0;31m#No. of unique notes\u001b[0m\u001b[0;34m\u001b[0m\u001b[0;34m\u001b[0m\u001b[0m\n\u001b[1;32m      5\u001b[0m \u001b[0munique_notes\u001b[0m \u001b[0;34m=\u001b[0m \u001b[0mlist\u001b[0m\u001b[0;34m(\u001b[0m\u001b[0mset\u001b[0m\u001b[0;34m(\u001b[0m\u001b[0mnotes_\u001b[0m\u001b[0;34m)\u001b[0m\u001b[0;34m)\u001b[0m\u001b[0;34m\u001b[0m\u001b[0;34m\u001b[0m\u001b[0m\n",
            "\u001b[0;31mNameError\u001b[0m: name 'notes_array' is not defined"
          ]
        }
      ]
    },
    {
      "cell_type": "code",
      "metadata": {
        "colab": {
          "base_uri": "https://localhost:8080/",
          "height": 406
        },
        "id": "_uJOO9aHQilj",
        "outputId": "9575da85-614f-4c90-b76c-d445ea0bd51e"
      },
      "source": [
        "#importing library\n",
        "from collections import Counter\n",
        "\n",
        "#computing frequency of each note\n",
        "freq = dict(Counter(notes_))\n",
        "\n",
        "#library for visualiation\n",
        "import matplotlib.pyplot as plt\n",
        "\n",
        "#consider only the frequencies\n",
        "no=[count for _,count in freq.items()]\n",
        "\n",
        "#set the figure size\n",
        "plt.figure(figsize=(5,5))\n",
        "\n",
        "#plot\n",
        "plt.hist(no)"
      ],
      "execution_count": null,
      "outputs": [
        {
          "output_type": "execute_result",
          "data": {
            "text/plain": [
              "(array([187.,  41.,  26.,  11.,   6.,   9.,  12.,   6.,   3.,   3.]),\n",
              " array([1.0000e+00, 1.4790e+02, 2.9480e+02, 4.4170e+02, 5.8860e+02,\n",
              "        7.3550e+02, 8.8240e+02, 1.0293e+03, 1.1762e+03, 1.3231e+03,\n",
              "        1.4700e+03]),\n",
              " <a list of 10 Patch objects>)"
            ]
          },
          "metadata": {},
          "execution_count": 6
        },
        {
          "output_type": "display_data",
          "data": {
            "text/plain": [
              "<Figure size 360x360 with 1 Axes>"
            ],
            "image/png": "[encoded data removed]"
          },
          "metadata": {
            "image/png": {
              "width": 319,
              "height": 302
            },
            "needs_background": "light"
          }
        }
      ]
    },
    {
      "cell_type": "code",
      "metadata": {
        "colab": {
          "base_uri": "https://localhost:8080/"
        },
        "id": "9yBbqA0rQxqZ",
        "outputId": "700c4518-0ec7-4454-abe7-64430666ed32"
      },
      "source": [
        "frequent_notes = [note_ for note_, count in freq.items() if count>=50]\n",
        "print(len(frequent_notes))"
      ],
      "execution_count": null,
      "outputs": [
        {
          "output_type": "stream",
          "name": "stdout",
          "text": [
            "167\n"
          ]
        }
      ]
    },
    {
      "cell_type": "code",
      "metadata": {
        "colab": {
          "base_uri": "https://localhost:8080/"
        },
        "id": "sF_BDif8TAok",
        "outputId": "cb706b13-b3a5-48f9-8afd-f005d265d801"
      },
      "source": [
        "new_music=[]\n",
        "\n",
        "for notes in notes_array:\n",
        "    temp=[]\n",
        "    for note_ in notes:\n",
        "        if note_ in frequent_notes:\n",
        "            temp.append(note_)\n",
        "    new_music.append(temp)\n",
        "\n",
        "new_music = np.array(new_music)"
      ],
      "execution_count": null,
      "outputs": [
        {
          "output_type": "stream",
          "name": "stderr",
          "text": [
            "/usr/local/lib/python3.7/dist-packages/ipykernel_launcher.py:10: VisibleDeprecationWarning: Creating an ndarray from ragged nested sequences (which is a list-or-tuple of lists-or-tuples-or ndarrays with different lengths or shapes) is deprecated. If you meant to do this, you must specify 'dtype=object' when creating the ndarray.\n",
            "  # Remove the CWD from sys.path while we load stuff.\n"
          ]
        }
      ]
    },
    {
      "cell_type": "code",
      "metadata": {
        "id": "YEHVd2xATLMF"
      },
      "source": [
        "no_of_timesteps = 32\n",
        "x = []\n",
        "y = []\n",
        "\n",
        "for note_ in new_music:\n",
        "    for i in range(0, len(note_) - no_of_timesteps, 1):\n",
        "\n",
        "        #preparing input and output sequences\n",
        "        input_ = note_[i:i + no_of_timesteps]\n",
        "        output = note_[i + no_of_timesteps]\n",
        "\n",
        "        x.append(input_)\n",
        "        y.append(output)\n",
        "\n",
        "x=np.array(x)\n",
        "y=np.array(y)"
      ],
      "execution_count": null,
      "outputs": []
    },
    {
      "cell_type": "code",
      "metadata": {
        "id": "Cry0JyZqTVj5"
      },
      "source": [
        "unique_x = list(set(x.ravel()))\n",
        "x_note_to_int = dict((note_, number) for number, note_ in enumerate(unique_x))"
      ],
      "execution_count": null,
      "outputs": []
    },
    {
      "cell_type": "code",
      "metadata": {
        "id": "QqX87cxuTnU1"
      },
      "source": [
        "#preparing input sequences\n",
        "x_seq=[]\n",
        "for i in x:\n",
        "    temp=[]\n",
        "    for j in i:\n",
        "        #assigning unique integer to every note\n",
        "        temp.append(x_note_to_int[j])\n",
        "    x_seq.append(temp)\n",
        "\n",
        "x_seq = np.array(x_seq)"
      ],
      "execution_count": null,
      "outputs": []
    },
    {
      "cell_type": "code",
      "metadata": {
        "id": "PjjV-W1MT1I6"
      },
      "source": [
        "unique_y = list(set(y))\n",
        "y_note_to_int = dict((note_, number) for number, note_ in enumerate(unique_y))\n",
        "y_seq=np.array([y_note_to_int[i] for i in y])"
      ],
      "execution_count": null,
      "outputs": []
    },
    {
      "cell_type": "code",
      "metadata": {
        "id": "LMBsdGscUBus"
      },
      "source": [
        "from sklearn.model_selection import train_test_split\n",
        "x_tr, x_val, y_tr, y_val = train_test_split(x_seq,y_seq,test_size=0.2,random_state=0)"
      ],
      "execution_count": null,
      "outputs": []
    },
    {
      "cell_type": "code",
      "metadata": {
        "colab": {
          "base_uri": "https://localhost:8080/"
        },
        "id": "pVzA9e0FUOZV",
        "outputId": "b886eac6-4e0e-4ea4-8d08-233cec2fe791"
      },
      "source": [
        "from keras.layers import *\n",
        "from keras.models import *\n",
        "from keras.callbacks import *\n",
        "import keras.backend as K\n",
        "\n",
        "K.clear_session()\n",
        "model = Sequential()\n",
        "\n",
        "#embedding layer\n",
        "model.add(Embedding(len(unique_x), 100, input_length=32,trainable=True))\n",
        "\n",
        "model.add(Conv1D(64,3, padding='causal',activation='relu'))\n",
        "model.add(Dropout(0.2))\n",
        "model.add(MaxPool1D(2))\n",
        "\n",
        "model.add(Conv1D(128,3,activation='relu',dilation_rate=2,padding='causal'))\n",
        "model.add(Dropout(0.2))\n",
        "model.add(MaxPool1D(2))\n",
        "\n",
        "model.add(Conv1D(256,3,activation='relu',dilation_rate=4,padding='causal'))\n",
        "model.add(Dropout(0.2))\n",
        "model.add(MaxPool1D(2))\n",
        "\n",
        "#model.add(Conv1D(256,5,activation='relu'))\n",
        "model.add(GlobalMaxPool1D())\n",
        "\n",
        "model.add(Dense(256, activation='relu'))\n",
        "model.add(Dense(len(unique_y), activation='softmax'))\n",
        "\n",
        "model.compile(loss='sparse_categorical_crossentropy', optimizer='adam')\n",
        "\n",
        "model.summary()"
      ],
      "execution_count": null,
      "outputs": [
        {
          "output_type": "stream",
          "name": "stdout",
          "text": [
            "Model: \"sequential\"\n",
            "_________________________________________________________________\n",
            " Layer (type)                Output Shape              Param #   \n",
            "=================================================================\n",
            " embedding (Embedding)       (None, 32, 100)           16700     \n",
            "                                                                 \n",
            " conv1d (Conv1D)             (None, 32, 64)            19264     \n",
            "                                                                 \n",
            " dropout (Dropout)           (None, 32, 64)            0         \n",
            "                                                                 \n",
            " max_pooling1d (MaxPooling1D  (None, 16, 64)           0         \n",
            " )                                                               \n",
            "                                                                 \n",
            " conv1d_1 (Conv1D)           (None, 16, 128)           24704     \n",
            "                                                                 \n",
            " dropout_1 (Dropout)         (None, 16, 128)           0         \n",
            "                                                                 \n",
            " max_pooling1d_1 (MaxPooling  (None, 8, 128)           0         \n",
            " 1D)                                                             \n",
            "                                                                 \n",
            " conv1d_2 (Conv1D)           (None, 8, 256)            98560     \n",
            "                                                                 \n",
            " dropout_2 (Dropout)         (None, 8, 256)            0         \n",
            "                                                                 \n",
            " max_pooling1d_2 (MaxPooling  (None, 4, 256)           0         \n",
            " 1D)                                                             \n",
            "                                                                 \n",
            " global_max_pooling1d (Globa  (None, 256)              0         \n",
            " lMaxPooling1D)                                                  \n",
            "                                                                 \n",
            " dense (Dense)               (None, 256)               65792     \n",
            "                                                                 \n",
            " dense_1 (Dense)             (None, 167)               42919     \n",
            "                                                                 \n",
            "=================================================================\n",
            "Total params: 267,939\n",
            "Trainable params: 267,939\n",
            "Non-trainable params: 0\n",
            "_________________________________________________________________\n"
          ]
        }
      ]
    },
    {
      "cell_type": "code",
      "metadata": {
        "id": "wAgDfeLPUgru"
      },
      "source": [
        "mc=ModelCheckpoint('best_model.h5', monitor='val_loss', mode='min', save_best_only=True,verbose=1)"
      ],
      "execution_count": null,
      "outputs": []
    },
    {
      "cell_type": "code",
      "metadata": {
        "colab": {
          "base_uri": "https://localhost:8080/"
        },
        "id": "7Q31_5WYUput",
        "outputId": "5e975c21-af45-4b09-af5f-403235e70df9"
      },
      "source": [
        "history = model.fit(np.array(x_tr),np.array(y_tr),batch_size=128,epochs=50, validation_data=(np.array(x_val),np.array(y_val)),verbose=1, callbacks=[mc])"
      ],
      "execution_count": null,
      "outputs": [
        {
          "output_type": "stream",
          "name": "stdout",
          "text": [
            "Epoch 1/50\n",
            "403/403 [==============================] - ETA: 0s - loss: 4.3355\n",
            "Epoch 1: val_loss improved from inf to 4.06580, saving model to best_model.h5\n",
            "403/403 [==============================] - 41s 98ms/step - loss: 4.3355 - val_loss: 4.0658\n",
            "Epoch 2/50\n",
            "403/403 [==============================] - ETA: 0s - loss: 3.7763\n",
            "Epoch 2: val_loss improved from 4.06580 to 3.82185, saving model to best_model.h5\n",
            "403/403 [==============================] - 39s 98ms/step - loss: 3.7763 - val_loss: 3.8218\n",
            "Epoch 3/50\n",
            "403/403 [==============================] - ETA: 0s - loss: 3.6029\n",
            "Epoch 3: val_loss improved from 3.82185 to 3.66396, saving model to best_model.h5\n",
            "403/403 [==============================] - 37s 92ms/step - loss: 3.6029 - val_loss: 3.6640\n",
            "Epoch 4/50\n",
            "403/403 [==============================] - ETA: 0s - loss: 3.4734\n",
            "Epoch 4: val_loss improved from 3.66396 to 3.54483, saving model to best_model.h5\n",
            "403/403 [==============================] - 39s 97ms/step - loss: 3.4734 - val_loss: 3.5448\n",
            "Epoch 5/50\n",
            "403/403 [==============================] - ETA: 0s - loss: 3.3685\n",
            "Epoch 5: val_loss improved from 3.54483 to 3.48237, saving model to best_model.h5\n",
            "403/403 [==============================] - 37s 92ms/step - loss: 3.3685 - val_loss: 3.4824\n",
            "Epoch 6/50\n",
            "403/403 [==============================] - ETA: 0s - loss: 3.2873\n",
            "Epoch 6: val_loss improved from 3.48237 to 3.39816, saving model to best_model.h5\n",
            "403/403 [==============================] - 39s 97ms/step - loss: 3.2873 - val_loss: 3.3982\n",
            "Epoch 7/50\n",
            "403/403 [==============================] - ETA: 0s - loss: 3.2165\n",
            "Epoch 7: val_loss improved from 3.39816 to 3.35435, saving model to best_model.h5\n",
            "403/403 [==============================] - 37s 92ms/step - loss: 3.2165 - val_loss: 3.3543\n",
            "Epoch 8/50\n",
            "403/403 [==============================] - ETA: 0s - loss: 3.1513\n",
            "Epoch 8: val_loss improved from 3.35435 to 3.29828, saving model to best_model.h5\n",
            "403/403 [==============================] - 39s 96ms/step - loss: 3.1513 - val_loss: 3.2983\n",
            "Epoch 9/50\n",
            "403/403 [==============================] - ETA: 0s - loss: 3.0953\n",
            "Epoch 9: val_loss improved from 3.29828 to 3.28121, saving model to best_model.h5\n",
            "403/403 [==============================] - 40s 98ms/step - loss: 3.0953 - val_loss: 3.2812\n",
            "Epoch 10/50\n",
            "403/403 [==============================] - ETA: 0s - loss: 3.0450\n",
            "Epoch 10: val_loss improved from 3.28121 to 3.23192, saving model to best_model.h5\n",
            "403/403 [==============================] - 37s 92ms/step - loss: 3.0450 - val_loss: 3.2319\n",
            "Epoch 11/50\n",
            "403/403 [==============================] - ETA: 0s - loss: 2.9978\n",
            "Epoch 11: val_loss improved from 3.23192 to 3.22065, saving model to best_model.h5\n",
            "403/403 [==============================] - 39s 98ms/step - loss: 2.9978 - val_loss: 3.2206\n",
            "Epoch 12/50\n",
            "403/403 [==============================] - ETA: 0s - loss: 2.9545\n",
            "Epoch 12: val_loss improved from 3.22065 to 3.18907, saving model to best_model.h5\n",
            "403/403 [==============================] - 37s 93ms/step - loss: 2.9545 - val_loss: 3.1891\n",
            "Epoch 13/50\n",
            "403/403 [==============================] - ETA: 0s - loss: 2.9137\n",
            "Epoch 13: val_loss improved from 3.18907 to 3.13835, saving model to best_model.h5\n",
            "403/403 [==============================] - 39s 98ms/step - loss: 2.9137 - val_loss: 3.1384\n",
            "Epoch 14/50\n",
            "403/403 [==============================] - ETA: 0s - loss: 2.8822\n",
            "Epoch 14: val_loss improved from 3.13835 to 3.12134, saving model to best_model.h5\n",
            "403/403 [==============================] - 38s 94ms/step - loss: 2.8822 - val_loss: 3.1213\n",
            "Epoch 15/50\n",
            "403/403 [==============================] - ETA: 0s - loss: 2.8493\n",
            "Epoch 15: val_loss improved from 3.12134 to 3.08717, saving model to best_model.h5\n",
            "403/403 [==============================] - 40s 98ms/step - loss: 2.8493 - val_loss: 3.0872\n",
            "Epoch 16/50\n",
            "403/403 [==============================] - ETA: 0s - loss: 2.8184\n",
            "Epoch 16: val_loss improved from 3.08717 to 3.08492, saving model to best_model.h5\n",
            "403/403 [==============================] - 38s 94ms/step - loss: 2.8184 - val_loss: 3.0849\n",
            "Epoch 17/50\n",
            "403/403 [==============================] - ETA: 0s - loss: 2.7849\n",
            "Epoch 17: val_loss improved from 3.08492 to 3.04416, saving model to best_model.h5\n",
            "403/403 [==============================] - 40s 99ms/step - loss: 2.7849 - val_loss: 3.0442\n",
            "Epoch 18/50\n",
            "403/403 [==============================] - ETA: 0s - loss: 2.7556\n",
            "Epoch 18: val_loss improved from 3.04416 to 3.02537, saving model to best_model.h5\n",
            "403/403 [==============================] - 40s 99ms/step - loss: 2.7556 - val_loss: 3.0254\n",
            "Epoch 19/50\n",
            "403/403 [==============================] - ETA: 0s - loss: 2.7318\n",
            "Epoch 19: val_loss improved from 3.02537 to 3.00977, saving model to best_model.h5\n",
            "403/403 [==============================] - 39s 97ms/step - loss: 2.7318 - val_loss: 3.0098\n",
            "Epoch 20/50\n",
            "403/403 [==============================] - ETA: 0s - loss: 2.7040\n",
            "Epoch 20: val_loss improved from 3.00977 to 2.99584, saving model to best_model.h5\n",
            "403/403 [==============================] - 38s 95ms/step - loss: 2.7040 - val_loss: 2.9958\n",
            "Epoch 21/50\n",
            "403/403 [==============================] - ETA: 0s - loss: 2.6831\n",
            "Epoch 21: val_loss improved from 2.99584 to 2.97179, saving model to best_model.h5\n",
            "403/403 [==============================] - 38s 93ms/step - loss: 2.6831 - val_loss: 2.9718\n",
            "Epoch 22/50\n",
            "403/403 [==============================] - ETA: 0s - loss: 2.6609\n",
            "Epoch 22: val_loss improved from 2.97179 to 2.96133, saving model to best_model.h5\n",
            "403/403 [==============================] - 41s 103ms/step - loss: 2.6609 - val_loss: 2.9613\n",
            "Epoch 23/50\n",
            "403/403 [==============================] - ETA: 0s - loss: 2.6383\n",
            "Epoch 23: val_loss improved from 2.96133 to 2.95399, saving model to best_model.h5\n",
            "403/403 [==============================] - 38s 95ms/step - loss: 2.6383 - val_loss: 2.9540\n",
            "Epoch 24/50\n",
            "403/403 [==============================] - ETA: 0s - loss: 2.6201\n",
            "Epoch 24: val_loss improved from 2.95399 to 2.93034, saving model to best_model.h5\n",
            "403/403 [==============================] - 40s 99ms/step - loss: 2.6201 - val_loss: 2.9303\n",
            "Epoch 25/50\n",
            "403/403 [==============================] - ETA: 0s - loss: 2.6027\n",
            "Epoch 25: val_loss did not improve from 2.93034\n",
            "403/403 [==============================] - 38s 95ms/step - loss: 2.6027 - val_loss: 2.9313\n",
            "Epoch 26/50\n",
            "403/403 [==============================] - ETA: 0s - loss: 2.5804\n",
            "Epoch 26: val_loss improved from 2.93034 to 2.90843, saving model to best_model.h5\n",
            "403/403 [==============================] - 40s 99ms/step - loss: 2.5804 - val_loss: 2.9084\n",
            "Epoch 27/50\n",
            "403/403 [==============================] - ETA: 0s - loss: 2.5699\n",
            "Epoch 27: val_loss improved from 2.90843 to 2.90214, saving model to best_model.h5\n",
            "403/403 [==============================] - 39s 98ms/step - loss: 2.5699 - val_loss: 2.9021\n",
            "Epoch 28/50\n",
            "403/403 [==============================] - ETA: 0s - loss: 2.5496\n",
            "Epoch 28: val_loss improved from 2.90214 to 2.88626, saving model to best_model.h5\n",
            "403/403 [==============================] - 38s 95ms/step - loss: 2.5496 - val_loss: 2.8863\n",
            "Epoch 29/50\n",
            "403/403 [==============================] - ETA: 0s - loss: 2.5362\n",
            "Epoch 29: val_loss did not improve from 2.88626\n",
            "403/403 [==============================] - 39s 98ms/step - loss: 2.5362 - val_loss: 2.8867\n",
            "Epoch 30/50\n",
            "403/403 [==============================] - ETA: 0s - loss: 2.5229\n",
            "Epoch 30: val_loss improved from 2.88626 to 2.87129, saving model to best_model.h5\n",
            "403/403 [==============================] - 38s 95ms/step - loss: 2.5229 - val_loss: 2.8713\n",
            "Epoch 31/50\n",
            "403/403 [==============================] - ETA: 0s - loss: 2.5092\n",
            "Epoch 31: val_loss did not improve from 2.87129\n",
            "403/403 [==============================] - 40s 100ms/step - loss: 2.5092 - val_loss: 2.8722\n",
            "Epoch 32/50\n",
            "403/403 [==============================] - ETA: 0s - loss: 2.4981\n",
            "Epoch 32: val_loss improved from 2.87129 to 2.84443, saving model to best_model.h5\n",
            "403/403 [==============================] - 38s 93ms/step - loss: 2.4981 - val_loss: 2.8444\n",
            "Epoch 33/50\n",
            "403/403 [==============================] - ETA: 0s - loss: 2.4866\n",
            "Epoch 33: val_loss did not improve from 2.84443\n",
            "403/403 [==============================] - 40s 99ms/step - loss: 2.4866 - val_loss: 2.8516\n",
            "Epoch 34/50\n",
            "403/403 [==============================] - ETA: 0s - loss: 2.4641\n",
            "Epoch 34: val_loss improved from 2.84443 to 2.84338, saving model to best_model.h5\n",
            "403/403 [==============================] - 39s 96ms/step - loss: 2.4641 - val_loss: 2.8434\n",
            "Epoch 35/50\n",
            "403/403 [==============================] - ETA: 0s - loss: 2.4563\n",
            "Epoch 35: val_loss improved from 2.84338 to 2.82426, saving model to best_model.h5\n",
            "403/403 [==============================] - 40s 100ms/step - loss: 2.4563 - val_loss: 2.8243\n",
            "Epoch 36/50\n",
            "403/403 [==============================] - ETA: 0s - loss: 2.4401\n",
            "Epoch 36: val_loss did not improve from 2.82426\n",
            "403/403 [==============================] - 41s 101ms/step - loss: 2.4401 - val_loss: 2.8246\n",
            "Epoch 37/50\n",
            "403/403 [==============================] - ETA: 0s - loss: 2.4452\n",
            "Epoch 37: val_loss improved from 2.82426 to 2.81038, saving model to best_model.h5\n",
            "403/403 [==============================] - 38s 94ms/step - loss: 2.4452 - val_loss: 2.8104\n",
            "Epoch 38/50\n",
            "403/403 [==============================] - ETA: 0s - loss: 2.4350\n",
            "Epoch 38: val_loss improved from 2.81038 to 2.80157, saving model to best_model.h5\n",
            "403/403 [==============================] - 40s 100ms/step - loss: 2.4350 - val_loss: 2.8016\n",
            "Epoch 39/50\n",
            "403/403 [==============================] - ETA: 0s - loss: 2.4252\n",
            "Epoch 39: val_loss did not improve from 2.80157\n",
            "403/403 [==============================] - 39s 96ms/step - loss: 2.4252 - val_loss: 2.8053\n",
            "Epoch 40/50\n",
            "403/403 [==============================] - ETA: 0s - loss: 2.4148\n",
            "Epoch 40: val_loss improved from 2.80157 to 2.79325, saving model to best_model.h5\n",
            "403/403 [==============================] - 40s 100ms/step - loss: 2.4148 - val_loss: 2.7932\n",
            "Epoch 41/50\n",
            "403/403 [==============================] - ETA: 0s - loss: 2.4062\n",
            "Epoch 41: val_loss improved from 2.79325 to 2.79308, saving model to best_model.h5\n",
            "403/403 [==============================] - 38s 95ms/step - loss: 2.4062 - val_loss: 2.7931\n",
            "Epoch 42/50\n",
            "403/403 [==============================] - ETA: 0s - loss: 2.3925\n",
            "Epoch 42: val_loss improved from 2.79308 to 2.79182, saving model to best_model.h5\n",
            "403/403 [==============================] - 40s 98ms/step - loss: 2.3925 - val_loss: 2.7918\n",
            "Epoch 43/50\n",
            "403/403 [==============================] - ETA: 0s - loss: 2.3915\n",
            "Epoch 43: val_loss improved from 2.79182 to 2.78150, saving model to best_model.h5\n",
            "403/403 [==============================] - 39s 98ms/step - loss: 2.3915 - val_loss: 2.7815\n",
            "Epoch 44/50\n",
            "403/403 [==============================] - ETA: 0s - loss: 2.3845\n",
            "Epoch 44: val_loss improved from 2.78150 to 2.78081, saving model to best_model.h5\n",
            "403/403 [==============================] - 37s 92ms/step - loss: 2.3845 - val_loss: 2.7808\n",
            "Epoch 45/50\n",
            "403/403 [==============================] - ETA: 0s - loss: 2.3733\n",
            "Epoch 45: val_loss improved from 2.78081 to 2.77678, saving model to best_model.h5\n",
            "403/403 [==============================] - 39s 97ms/step - loss: 2.3733 - val_loss: 2.7768\n",
            "Epoch 46/50\n",
            "403/403 [==============================] - ETA: 0s - loss: 2.3635\n",
            "Epoch 46: val_loss improved from 2.77678 to 2.76004, saving model to best_model.h5\n",
            "403/403 [==============================] - 39s 96ms/step - loss: 2.3635 - val_loss: 2.7600\n",
            "Epoch 47/50\n",
            "403/403 [==============================] - ETA: 0s - loss: 2.3569\n",
            "Epoch 47: val_loss did not improve from 2.76004\n",
            "403/403 [==============================] - 39s 96ms/step - loss: 2.3569 - val_loss: 2.7669\n",
            "Epoch 48/50\n",
            "403/403 [==============================] - ETA: 0s - loss: 2.3499\n",
            "Epoch 48: val_loss improved from 2.76004 to 2.75997, saving model to best_model.h5\n",
            "403/403 [==============================] - 39s 98ms/step - loss: 2.3499 - val_loss: 2.7600\n",
            "Epoch 49/50\n",
            "403/403 [==============================] - ETA: 0s - loss: 2.3466\n",
            "Epoch 49: val_loss did not improve from 2.75997\n",
            "403/403 [==============================] - 38s 94ms/step - loss: 2.3466 - val_loss: 2.7614\n",
            "Epoch 50/50\n",
            "403/403 [==============================] - ETA: 0s - loss: 2.3345\n",
            "Epoch 50: val_loss improved from 2.75997 to 2.74306, saving model to best_model.h5\n",
            "403/403 [==============================] - 40s 98ms/step - loss: 2.3345 - val_loss: 2.7431\n"
          ]
        }
      ]
    },
    {
      "cell_type": "code",
      "metadata": {
        "id": "dNDe86zKaqgZ",
        "colab": {
          "base_uri": "https://localhost:8080/"
        },
        "outputId": "85ee6318-e682-4cc0-cf51-0f688cec2ecf"
      },
      "source": [
        "#loading best model\n",
        "from keras.models import load_model\n",
        "model = load_model(\"/content/drive/MyDrive/model_save\")\n"
      ],
      "execution_count": null,
      "outputs": [
        {
          "output_type": "stream",
          "name": "stdout",
          "text": [
            "WARNING:tensorflow:SavedModel saved prior to TF 2.5 detected when loading Keras model. Please ensure that you are saving the model with model.save() or tf.keras.models.save_model(), *NOT* tf.saved_model.save(). To confirm, there should be a file named \"keras_metadata.pb\" in the SavedModel directory.\n"
          ]
        }
      ]
    },
    {
      "cell_type": "code",
      "metadata": {
        "colab": {
          "base_uri": "https://localhost:8080/"
        },
        "id": "rCHXs2OIbdzo",
        "outputId": "74086b4a-3698-4f1f-ee45-dc62bd31d3d5"
      },
      "source": [
        "import random\n",
        "ind = np.random.randint(0,len(x_val)-1)\n",
        "\n",
        "random_music = x_val[ind]\n",
        "\n",
        "predictions=[]\n",
        "for i in range(10):\n",
        "\n",
        "    random_music = random_music.reshape(1,no_of_timesteps)\n",
        "\n",
        "    prob  = model.predict(random_music)[0]\n",
        "    y_pred= np.argmax(prob,axis=0)\n",
        "    predictions.append(y_pred)\n",
        "\n",
        "    random_music = np.insert(random_music[0],len(random_music[0]),y_pred)\n",
        "    random_music = random_music[1:]\n",
        "\n",
        "print(predictions)"
      ],
      "execution_count": null,
      "outputs": [
        {
          "output_type": "stream",
          "name": "stdout",
          "text": [
            "[115, 125, 141, 53, 115, 121, 115, 115, 115, 50]\n"
          ]
        }
      ]
    },
    {
      "cell_type": "code",
      "metadata": {
        "id": "Mhlfby5BcLw2"
      },
      "source": [
        "x_int_to_note = dict((number, note_) for number, note_ in enumerate(unique_x))\n",
        "predicted_notes = [x_int_to_note[i] for i in predictions]"
      ],
      "execution_count": null,
      "outputs": []
    },
    {
      "cell_type": "code",
      "metadata": {
        "id": "WMgK19xLchYS"
      },
      "source": [
        "def convert_to_midi(prediction_output):\n",
        "\n",
        "    offset = 0\n",
        "    output_notes = []\n",
        "\n",
        "    # create note and chord objects based on the values generated by the model\n",
        "    for pattern in prediction_output:\n",
        "\n",
        "        # pattern is a chord\n",
        "        if ('.' in pattern) or pattern.isdigit():\n",
        "            notes_in_chord = pattern.split('.')\n",
        "            notes = []\n",
        "            for current_note in notes_in_chord:\n",
        "\n",
        "                cn=int(current_note)\n",
        "                new_note = note.Note(cn)\n",
        "                new_note.storedInstrument = instrument.Piano()\n",
        "                notes.append(new_note)\n",
        "\n",
        "            new_chord = chord.Chord(notes)\n",
        "            new_chord.offset = offset\n",
        "            output_notes.append(new_chord)\n",
        "\n",
        "        # pattern is a note\n",
        "        else:\n",
        "\n",
        "            new_note = note.Note(pattern)\n",
        "            new_note.offset = offset\n",
        "            new_note.storedInstrument = instrument.Piano()\n",
        "            output_notes.append(new_note)\n",
        "\n",
        "        # increase offset each iteration so that notes do not stack\n",
        "        offset += 1\n",
        "    midi_stream = stream.Stream(output_notes)\n",
        "    midi_stream.write('midi', fp='music.mid')"
      ],
      "execution_count": null,
      "outputs": []
    },
    {
      "cell_type": "code",
      "metadata": {
        "id": "F4NkS0GSdMAi"
      },
      "source": [
        "convert_to_midi(predicted_notes)"
      ],
      "execution_count": null,
      "outputs": []
    }
  ]
}